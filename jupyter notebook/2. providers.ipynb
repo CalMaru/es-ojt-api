{
 "cells": [
  {
   "cell_type": "markdown",
   "id": "e6a6d7a6-3a16-4693-a5bb-662bc666f625",
   "metadata": {},
   "source": [
    "# Unique Providers"
   ]
  },
  {
   "cell_type": "code",
   "execution_count": 1,
   "id": "1fea92c5-1fea-4ce0-b2b2-e98ef298f14b",
   "metadata": {},
   "outputs": [],
   "source": [
    "from pathlib import Path\n",
    "import os\n",
    "\n",
    "os.chdir(Path(os.getcwd()).parent)"
   ]
  },
  {
   "cell_type": "code",
   "execution_count": 2,
   "id": "03969021-05f6-48ee-9a22-8ea56ce459ee",
   "metadata": {},
   "outputs": [],
   "source": [
    "from os.path import join\n",
    "\n",
    "import pandas as pd"
   ]
  },
  {
   "cell_type": "markdown",
   "id": "b5b3e1a1-4fec-411a-a4b4-605ea53df41d",
   "metadata": {},
   "source": [
    "## Load news data"
   ]
  },
  {
   "cell_type": "code",
   "execution_count": 3,
   "id": "0a15c4ed-d711-4131-b379-d6ecda3a5f9f",
   "metadata": {},
   "outputs": [],
   "source": [
    "root_path = os.getcwd()\n",
    "data_path = join(os.getcwd(), \"data\")"
   ]
  },
  {
   "cell_type": "code",
   "execution_count": 4,
   "id": "247256d5-9667-4a86-854e-cd564a8c22f6",
   "metadata": {},
   "outputs": [],
   "source": [
    "news_df = pd.read_csv(join(data_path, \"news_data_20000.csv\"))"
   ]
  },
  {
   "cell_type": "code",
   "execution_count": 5,
   "id": "64766265-3567-46f5-b3fb-543673455149",
   "metadata": {},
   "outputs": [],
   "source": [
    "providers = news_df[\"provider\"].unique()"
   ]
  },
  {
   "cell_type": "code",
   "execution_count": 6,
   "id": "09fa9e80-8020-45d2-b63a-6188cb9c0d1b",
   "metadata": {},
   "outputs": [
    {
     "data": {
      "text/plain": [
       "array(['헤럴드경제', '울산매일', '아시아경제', '세계일보', '전자신문', '부산일보', '서울경제', '전북도민일보',\n",
       "       '중부매일', 'YTN', 'MBC', '충청일보', '중앙일보', '한겨레', '국민일보', '머니투데이',\n",
       "       '한국경제', '중도일보', '제민일보', '동아일보', '강원일보', '한라일보', '경상일보', '아주경제',\n",
       "       '경인일보', 'KBS', '파이낸셜뉴스', 'OBS', '강원도민일보', '광주일보', '대구일보', '경기일보',\n",
       "       '중부일보', '디지털타임스', '서울신문', '매일신문', '충청투데이', '전남일보', '경향신문', '대전일보',\n",
       "       '조선일보', '문화일보', '전북일보', '충북일보', '광주매일신문', '경남도민일보', '내일신문', '영남일보',\n",
       "       '무등일보', '국제신문', 'SBS', '경남신문'], dtype=object)"
      ]
     },
     "execution_count": 6,
     "metadata": {},
     "output_type": "execute_result"
    }
   ],
   "source": [
    "providers"
   ]
  },
  {
   "cell_type": "markdown",
   "id": "2cb36a54-2871-429c-b94c-e8b168a736a8",
   "metadata": {},
   "source": [
    "## Load Naver Providers"
   ]
  },
  {
   "cell_type": "code",
   "execution_count": 7,
   "id": "5145522d-c591-4fa0-9406-d6dad443bfcf",
   "metadata": {},
   "outputs": [],
   "source": [
    "naver_df = pd.read_csv(join(data_path, \"providers.csv\"))"
   ]
  },
  {
   "cell_type": "code",
   "execution_count": 8,
   "id": "e1dfc4b4-523a-43f9-81f5-3843e7e1a8f4",
   "metadata": {},
   "outputs": [],
   "source": [
    "naver_providers = naver_df[\"이름\"].unique()"
   ]
  },
  {
   "cell_type": "markdown",
   "id": "c3d173b9-4b1b-41b1-8cbf-12a25f05f804",
   "metadata": {},
   "source": [
    "## 네이버 / 빅카인즈 언론사 비교"
   ]
  },
  {
   "cell_type": "code",
   "execution_count": 9,
   "id": "ff331f44-05c9-4440-9cc7-bbb7da9dd556",
   "metadata": {},
   "outputs": [],
   "source": [
    "for provider in providers:\n",
    "    if provider not in naver_providers:\n",
    "        print(provider)"
   ]
  },
  {
   "cell_type": "markdown",
   "id": "10468b98-8ddc-4397-a6af-057919293dee",
   "metadata": {},
   "source": [
    "울산매일, 한라일보가 없어 지역지/울산, 지역지/제주로 추가함"
   ]
  },
  {
   "cell_type": "code",
   "execution_count": null,
   "id": "1dc394a8-e32c-4c38-aab9-9362b1ba8b77",
   "metadata": {},
   "outputs": [],
   "source": []
  }
 ],
 "metadata": {
  "kernelspec": {
   "display_name": "es-ojt",
   "language": "python",
   "name": ".venv"
  },
  "language_info": {
   "codemirror_mode": {
    "name": "ipython",
    "version": 3
   },
   "file_extension": ".py",
   "mimetype": "text/x-python",
   "name": "python",
   "nbconvert_exporter": "python",
   "pygments_lexer": "ipython3",
   "version": "3.9.5"
  }
 },
 "nbformat": 4,
 "nbformat_minor": 5
}
